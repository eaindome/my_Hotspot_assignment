{
 "cells": [
  {
   "cell_type": "markdown",
   "metadata": {},
   "source": [
    "# Assignment"
   ]
  },
  {
   "cell_type": "code",
   "execution_count": 1,
   "metadata": {},
   "outputs": [],
   "source": [
    "pythonlist = ['Ama', 54, 'Kojo', 45.5, 'Yhup', 52, 'Kwame', 96, 'Kwesi', 87, 'Roland', True, 'Nti',\n",
    "             45, 78.5, 'William', 68, 45.3, 78, 'Patty', False, 98, True, 'Adwoa',21, 65, 'Pappy',\n",
    "             14, 'Folly', False, 52, 'Pency']"
   ]
  },
  {
   "cell_type": "markdown",
   "metadata": {},
   "source": [
    "1. create four empty lists:\n",
    "a. Floats\n",
    "b. Ints\n",
    "c. Strings\n",
    "d. Booleans\n"
   ]
  },
  {
   "cell_type": "markdown",
   "metadata": {},
   "source": [
    "\n",
    "2. For each item in the \"pythonlist\", place it in the right set created above.\n",
    "\n",
    "3. For the strings and booleans sets, sort the items\n",
    "\n",
    "4. For the int set, print out the 3rd and 5th highest number\n",
    "\n",
    "5. For the float set, print out the 2nd largest number"
   ]
  },
  {
   "cell_type": "code",
   "execution_count": 6,
   "metadata": {},
   "outputs": [
    {
     "name": "stdout",
     "output_type": "stream",
     "text": [
      "Ready!!!\n"
     ]
    }
   ],
   "source": [
    "print('Ready!!!')\n",
    "# 1. \n",
    "Floats = []\n",
    "Ints = []\n",
    "Strings = []\n",
    "Booleans = []"
   ]
  },
  {
   "cell_type": "code",
   "execution_count": 7,
   "metadata": {},
   "outputs": [
    {
     "name": "stdout",
     "output_type": "stream",
     "text": [
      "[54, 52, 96, 87, 45, 68, 78, 98, 21, 65, 14, 52]\n",
      "['Ama', 'Kojo', 'Yhup', 'Kwame', 'Kwesi', 'Roland', 'Nti', 'William', 'Patty', 'Adwoa', 'Pappy', 'Folly', 'Pency']\n",
      "[True, False, True, False]\n",
      "[45.5, 78.5, 45.3]\n"
     ]
    }
   ],
   "source": [
    "# 2. \n",
    "for item in pythonlist:\n",
    "    if isinstance(item, bool):\n",
    "        Booleans.append(item)\n",
    "    elif isinstance(item, str):\n",
    "        Strings.append(item)\n",
    "    elif isinstance(item, int):\n",
    "        Ints.append(item)\n",
    "    else:\n",
    "        Floats.append(item)\n",
    "\n",
    "print(Ints)\n",
    "print(Strings)\n",
    "print(Booleans)\n",
    "print(Floats)"
   ]
  },
  {
   "cell_type": "code",
   "execution_count": 8,
   "metadata": {},
   "outputs": [
    {
     "name": "stdout",
     "output_type": "stream",
     "text": [
      "['Adwoa', 'Ama', 'Folly', 'Kojo', 'Kwame', 'Kwesi', 'Nti', 'Pappy', 'Patty', 'Pency', 'Roland', 'William', 'Yhup']\n",
      "[False, False, True, True]\n"
     ]
    }
   ],
   "source": [
    "# 3. \n",
    "sort_str = sorted(Strings)\n",
    "print(sort_str)\n",
    "sort_bool = sorted(Booleans)\n",
    "print(sort_bool)"
   ]
  },
  {
   "cell_type": "code",
   "execution_count": 9,
   "metadata": {},
   "outputs": [
    {
     "name": "stdout",
     "output_type": "stream",
     "text": [
      "[14, 21, 45, 52, 52, 54, 65, 68, 78, 87, 96, 98]\n",
      "87\n",
      "68\n"
     ]
    }
   ],
   "source": [
    "# 4.\n",
    "sort_int = sorted(Ints)\n",
    "print(sort_int)\n",
    "print(sort_int[-3])\n",
    "print(sort_int[-5])"
   ]
  },
  {
   "cell_type": "code",
   "execution_count": 11,
   "metadata": {},
   "outputs": [
    {
     "name": "stdout",
     "output_type": "stream",
     "text": [
      "[45.3, 45.5, 78.5]\n",
      "45.5\n"
     ]
    }
   ],
   "source": [
    "# 5. \n",
    "sort_float = sorted(Floats)\n",
    "print(sort_float)\n",
    "print(sort_float[1])"
   ]
  },
  {
   "cell_type": "code",
   "execution_count": null,
   "metadata": {},
   "outputs": [],
   "source": []
  },
  {
   "cell_type": "code",
   "execution_count": null,
   "metadata": {},
   "outputs": [],
   "source": []
  },
  {
   "cell_type": "code",
   "execution_count": null,
   "metadata": {},
   "outputs": [],
   "source": []
  },
  {
   "cell_type": "code",
   "execution_count": null,
   "metadata": {},
   "outputs": [],
   "source": []
  },
  {
   "cell_type": "code",
   "execution_count": null,
   "metadata": {},
   "outputs": [],
   "source": []
  }
 ],
 "metadata": {
  "kernelspec": {
   "display_name": "Python 3",
   "language": "python",
   "name": "python3"
  },
  "language_info": {
   "codemirror_mode": {
    "name": "ipython",
    "version": 3
   },
   "file_extension": ".py",
   "mimetype": "text/x-python",
   "name": "python",
   "nbconvert_exporter": "python",
   "pygments_lexer": "ipython3",
   "version": "3.8.8"
  }
 },
 "nbformat": 4,
 "nbformat_minor": 2
}
